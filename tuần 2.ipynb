{
 "cells": [
  {
   "cell_type": "code",
   "execution_count": null,
   "id": "a7856e3c",
   "metadata": {},
   "outputs": [],
   "source": [
    "n = int(input())\n",
    "print(2*n)"
   ]
  },
  {
   "cell_type": "code",
   "execution_count": null,
   "id": "be2ac6c4",
   "metadata": {},
   "outputs": [],
   "source": [
    "a, b = map(int, input().split())\n",
    "r = b / 2\n",
    "s_tron = 3.14 * r * r\n",
    "s_vuong = a * b\n",
    "print(round(s_vuong - s_tron, 2))"
   ]
  },
  {
   "cell_type": "code",
   "execution_count": null,
   "id": "00f9b0a6",
   "metadata": {},
   "outputs": [],
   "source": [
    "c = input()\n",
    "if(c.isupper()) :\n",
    "    print(c.lower())\n",
    "else :\n",
    "    print(c.upper())"
   ]
  },
  {
   "cell_type": "code",
   "execution_count": null,
   "id": "6d3f4da8",
   "metadata": {},
   "outputs": [],
   "source": [
    "c = input()\n",
    "print( \"yes\" if ('A' <= c <= 'Z') or ('a' <= c <= 'z') else \"no\")\n"
   ]
  },
  {
   "cell_type": "code",
   "execution_count": 1,
   "id": "57d4985e",
   "metadata": {},
   "outputs": [
    {
     "name": "stdout",
     "output_type": "stream",
     "text": [
      "a\n"
     ]
    }
   ],
   "source": [
    "c=input()\n",
    "if c=='A':\n",
    "    print(\"special\")\n",
    "else:\n",
    "    tempt=c.lower()\n",
    "    tempt1=chr(ord(tempt) - 1)\n",
    "    print(tempt1)"
   ]
  },
  {
   "cell_type": "code",
   "execution_count": null,
   "id": "e9ac389b",
   "metadata": {},
   "outputs": [],
   "source": [
    "a, b, c = map(int,input().split())\n",
    "if a+b>c and a+c>b and b+c>a :\n",
    "    p = (a+b+c) / 2\n",
    "    print(round((p*(p-a)*(p-b)*(p-c))**0.5,1))\n",
    "else :\n",
    "    print(\"Khong phai 3 canh cua tam giac\")"
   ]
  },
  {
   "cell_type": "code",
   "execution_count": null,
   "id": "1cc557ba",
   "metadata": {},
   "outputs": [],
   "source": [
    "string=input()\n",
    "print(string[4],string[8])"
   ]
  },
  {
   "cell_type": "code",
   "execution_count": null,
   "id": "fc62e20c",
   "metadata": {},
   "outputs": [],
   "source": [
    "ten = input(\"Ten chu ho: \")\n",
    "chi_so_truoc = int(input(\"Chi so thang truoc: \"))\n",
    "chi_so_nay = int(input(\"Chi so thang nay: \"))\n",
    "sodien = chi_so_nay-chi_so_truoc\n",
    "if so_dien <= 50:\n",
    "    tien = sodien *1984\n",
    "elif so_dien <= 100:\n",
    "    tien = 50*1984 + (sodien-50)*2050\n",
    "elif so_dien <= 200:\n",
    "    tien = 50*1984 + 50*2050 + (sodien-100) * 2380\n",
    "elif so_dien <= 300:\n",
    "    tien = 50*1984 + 50*2050 + 100*2380 + 100*2998 + (sodien-300) * 3350\n",
    "else:\n",
    "    tien = 50*1984+50*2050+100*2380+100*2998+100*3350 + (sodien-400)*3460\n",
    "tien_phai_tra = round(tien*1.08)\n",
    "print(\"Ho va ten:\",ten)\n",
    "print(\"Tien phai tra la:\",tien_phai_tra)"
   ]
  }
 ],
 "metadata": {
  "kernelspec": {
   "display_name": "Python 3",
   "language": "python",
   "name": "python3"
  },
  "language_info": {
   "codemirror_mode": {
    "name": "ipython",
    "version": 3
   },
   "file_extension": ".py",
   "mimetype": "text/x-python",
   "name": "python",
   "nbconvert_exporter": "python",
   "pygments_lexer": "ipython3",
   "version": "3.13.7"
  }
 },
 "nbformat": 4,
 "nbformat_minor": 5
}
