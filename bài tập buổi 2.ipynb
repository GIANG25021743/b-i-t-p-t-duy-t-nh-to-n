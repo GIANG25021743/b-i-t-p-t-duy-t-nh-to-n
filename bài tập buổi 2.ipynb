{
 "cells": [
  {
   "cell_type": "code",
   "execution_count": null,
   "id": "05410231",
   "metadata": {},
   "outputs": [],
   "source": [
    "\"\"\"w2A1\"\"\"\n",
    "print(\"Hello world!\")"
   ]
  },
  {
   "cell_type": "code",
   "execution_count": null,
   "id": "d80c9619",
   "metadata": {},
   "outputs": [],
   "source": [
    "\"\"\"w2A2\"\"\"\n",
    "name=str(input(\"Enter your name: \"))\n",
    "print(\"Hello \",name)"
   ]
  },
  {
   "cell_type": "code",
   "execution_count": null,
   "id": "08d25d49",
   "metadata": {},
   "outputs": [],
   "source": [
    "\"\"\"w2A3\"\"\"\n",
    "a=int(input(\"Enter a: \"))\n",
    "b=int(input(\"Enter b: \"))\n",
    "print(\"tổng:\",a+b)\n",
    "print(\"hiệu:\",a-b)\n",
    "print(\"tích:\",a*b)\n",
    "print(\"phần nguyên khi a/b:\",a//b)\n",
    "\n",
    "print(\"phần dư khi a/b:\",a%b)\n",
    "kq=a/b\n",
    "print(\"kết quả số thực khi a/b làm tròn đến 2 số:\",f\"{kq:.2f}\")"
   ]
  },
  {
   "cell_type": "code",
   "execution_count": null,
   "id": "be1a696c",
   "metadata": {},
   "outputs": [],
   "source": [
    "\"\"\"w2A4\"\"\"\n",
    "a,b,c=map(int,input().split())\n",
    "max= a if a>b and a>c else (b if b>c else c)\n",
    "print(max)"
   ]
  },
  {
   "cell_type": "code",
   "execution_count": null,
   "id": "923d251a",
   "metadata": {},
   "outputs": [],
   "source": [
    "\"\"\"w2A5\"\"\"\n",
    "so=input(\"nhập 2 số bạn muốn:\").split()\n",
    "a,b=map(int,so)\n",
    "print(\"giá trị của a lũy thừa b:\",a**b)"
   ]
  },
  {
   "cell_type": "code",
   "execution_count": null,
   "id": "a8e3d461",
   "metadata": {},
   "outputs": [],
   "source": [
    "\"\"\"w2A6\"\"\"\n",
    "nhap=input(\"nhập 1 ký tự:\")\n",
    "print(\"mã UNICODE của ký tự\",nhap,\"là:\",ord(nhap))\n",
    "print(\"chữ viết hoa của ký tự:\",nhap,\"là:\",nhap.upper())\n"
   ]
  },
  {
   "cell_type": "code",
   "execution_count": null,
   "id": "00d73ee4",
   "metadata": {},
   "outputs": [],
   "source": [
    "\"\"\"w2A7\"\"\"\n",
    "a=((13**2)*3)+5\n",
    "b=13**2*3 +5\n",
    "print(a,\"và\",b)\n"
   ]
  },
  {
   "cell_type": "code",
   "execution_count": null,
   "id": "0169fa66",
   "metadata": {},
   "outputs": [],
   "source": [
    "\"\"\"w2A8\"\"\"\n",
    "t=float(input(\"nhập nhiệt độ C:\"))\n",
    "f=(t*9/5)+32\n",
    "print(f\"nhiet do đổi sang độ F là: {t:.2f}\")"
   ]
  },
  {
   "cell_type": "code",
   "execution_count": null,
   "id": "46d3701d",
   "metadata": {},
   "outputs": [],
   "source": [
    "\"\"\"w2A9\"\"\"\n",
    "t=float(input(\"nhập nhiệt độ C:\"))\n",
    "f=(t*9/5)+32\n",
    "print(f\"nhiet do đổi sang độ F là: {t:.2f}\")"
   ]
  },
  {
   "cell_type": "code",
   "execution_count": null,
   "id": "b4f567cb",
   "metadata": {},
   "outputs": [],
   "source": [
    "\"\"\"w2A10\"\"\"\n",
    "name=input().split()\n",
    "a,b,c=map(str, name)\n",
    "print(c,\",\", b ,\"and\",a)"
   ]
  },
  {
   "cell_type": "code",
   "execution_count": null,
   "id": "e87117f0",
   "metadata": {},
   "outputs": [],
   "source": [
    "\"\"\"w2A11\"\"\"\n",
    "nhap=input().split()\n",
    "gio,phut=map(int,nhap)\n",
    "print(\"tổng số giây:\",(gio*3600)+(phut*60))\n",
    "\n"
   ]
  },
  {
   "cell_type": "code",
   "execution_count": null,
   "id": "02d39d3e",
   "metadata": {},
   "outputs": [],
   "source": [
    "\"\"\"w2A12\"\"\"\n",
    "dodai=int(input(\"nhập độ dài cạnh của khối rubik:\"))\n",
    "print(\"số miếng dán cần dùng:\",(dodai**2)*6)\n"
   ]
  },
  {
   "cell_type": "code",
   "execution_count": null,
   "id": "e9ceb966",
   "metadata": {},
   "outputs": [],
   "source": [
    "\"\"\"w2A13\"\"\"\n",
    "a=int(input(\"nhập số a:\"))\n",
    "b=int(input(\"nhập số b:\"))\n",
    "tich=a*b\n",
    "tempt=(tich%10)\n",
    "print(\"hàng đơn vị:\",tempt)"
   ]
  },
  {
   "cell_type": "code",
   "execution_count": null,
   "id": "fd70a3c5",
   "metadata": {},
   "outputs": [],
   "source": [
    "\"\"\"w2A14\"\"\"\n",
    "a=int(input(\"nhập số a:\"))\n",
    "b=int(input(\"nhập số b:\"))\n",
    "mylist=[a,b]\n",
    "mylist.reverse()\n",
    "a,b=map(int,mylist)\n",
    "print(\"sau khi hoán đổi:\",a,b)"
   ]
  },
  {
   "cell_type": "code",
   "execution_count": null,
   "id": "6e390691",
   "metadata": {},
   "outputs": [],
   "source": [
    "\"\"\"w2A15\"\"\"\n",
    "def star_nmuber(n):\n",
    "    if n<=0:\n",
    "        return \"n phải là số nguyên dương\"\n",
    "    return 6*n*(n-1) +1\n",
    "def main():\n",
    "        n=int(input(\"nhập số nguyên dương n:\"))\n",
    "        if n<=0:\n",
    "            print(\"please try again\")\n",
    "        result = star_nmuber(n)\n",
    "        return result \n",
    "print(main())\n",
    "        "
   ]
  },
  {
   "cell_type": "code",
   "execution_count": null,
   "id": "bf7d9faa",
   "metadata": {},
   "outputs": [],
   "source": [
    "\"\"\"w2A16\"\"\"\n",
    "mua=input(\"tên các mùa trong năm bằng tiếng anh:\").split()\n",
    "for x in mua:\n",
    "    print(x)"
   ]
  },
  {
   "cell_type": "code",
   "execution_count": null,
   "id": "73f2c4a2",
   "metadata": {},
   "outputs": [],
   "source": [
    "\"\"\"w2A17\"\"\"\n",
    "print\"\"\"   *\n",
    "  ***\n",
    " ***** \"\"\"\n",
    " "
   ]
  },
  {
   "cell_type": "code",
   "execution_count": null,
   "id": "a246009d",
   "metadata": {},
   "outputs": [],
   "source": [
    "\"\"\"w2A18\"\"\"\n",
    "print(\"\"\"\n",
    "### # #   ### ###\n",
    " #  #  #   #   # \n",
    " #  #   #  #   # \n",
    " #  #  #   #   #\n",
    " #  ##     #   #\"\"\")"
   ]
  },
  {
   "cell_type": "code",
   "execution_count": null,
   "id": "08fe61ff",
   "metadata": {},
   "outputs": [],
   "source": [
    "\"\"\"w2A19\"\"\"\n",
    "ngay=input(\"nhập tên ngày trong tuần bằng tiếng anh:\").split()\n",
    "for x in ngay:\n",
    "    print(x) "
   ]
  },
  {
   "cell_type": "code",
   "execution_count": null,
   "id": "e8f30640",
   "metadata": {},
   "outputs": [],
   "source": [
    "\"\"\"w2A20\"\"\"\n",
    "thang=input(\"nhập tên các tháng trong năm bằng tiếng anh:\").split()\n",
    "for x in thang:\n",
    "    print(x)"
   ]
  },
  {
   "cell_type": "code",
   "execution_count": null,
   "id": "766177f1",
   "metadata": {},
   "outputs": [],
   "source": [
    "\"\"\"w2A21\"\"\"\n",
    "for i in range(10):\n",
    "    print(\"Hello, World\")"
   ]
  }
 ],
 "metadata": {
  "kernelspec": {
   "display_name": "Python 3",
   "language": "python",
   "name": "python3"
  },
  "language_info": {
   "name": "python",
   "version": "3.13.7"
  }
 },
 "nbformat": 4,
 "nbformat_minor": 5
}
